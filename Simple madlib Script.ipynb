{
 "cells": [
  {
   "cell_type": "markdown",
   "id": "bd02896e",
   "metadata": {},
   "source": [
    "#### A simple madlibs program"
   ]
  },
  {
   "cell_type": "code",
   "execution_count": null,
   "id": "3cf1cdc6",
   "metadata": {},
   "outputs": [],
   "source": [
    "# create a variable that prompts for user input and stores it for later use.\n",
    "adj = input('Enter an adjective: ')\n",
    "verb1 = input('enter a verb: ')\n",
    "verb2 = input('enter another verb: ')\n",
    "famos_person = input('name any famos person you know: ')\n",
    "mad_lib = f'Computer programming is so {adj}! it makes me exited all the time because \\\n",
    "I love to {verb1}. Stay hydrated and {verb2} like you are {famos_person.title()}'\n",
    "print(mad_lib)"
   ]
  },
  {
   "cell_type": "code",
   "execution_count": null,
   "id": "4e166284",
   "metadata": {},
   "outputs": [],
   "source": []
  }
 ],
 "metadata": {
  "kernelspec": {
   "display_name": "Python 3 (ipykernel)",
   "language": "python",
   "name": "python3"
  },
  "language_info": {
   "codemirror_mode": {
    "name": "ipython",
    "version": 3
   },
   "file_extension": ".py",
   "mimetype": "text/x-python",
   "name": "python",
   "nbconvert_exporter": "python",
   "pygments_lexer": "ipython3",
   "version": "3.9.12"
  }
 },
 "nbformat": 4,
 "nbformat_minor": 5
}
